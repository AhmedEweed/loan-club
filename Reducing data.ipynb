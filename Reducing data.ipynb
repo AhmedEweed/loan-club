{
 "cells": [
  {
   "cell_type": "code",
   "execution_count": 1,
   "metadata": {},
   "outputs": [],
   "source": [
    "import pandas as pd"
   ]
  },
  {
   "cell_type": "markdown",
   "metadata": {},
   "source": [
    "## Columns found in the dataset, total of 145 column!"
   ]
  },
  {
   "cell_type": "code",
   "execution_count": 2,
   "metadata": {},
   "outputs": [
    {
     "data": {
      "text/plain": [
       "145"
      ]
     },
     "execution_count": 2,
     "metadata": {},
     "output_type": "execute_result"
    }
   ],
   "source": [
    "cols = ['id', 'member_id','loan_amnt','funded_amnt','funded_amnt_inv','term','int_rate', \n",
    "        'installment','grade','sub_grade','emp_title','emp_length','home_ownership','annual_inc'\n",
    "       ,'verification_status','issue_d','loan_status','pymnt_plan','url','desc','purpose','title','zip_code'\n",
    "       ,'addr_state','dti','delinq_2yrs','earliest_cr_line','inq_last_6mths','mths_since_last_delinq'\n",
    "       ,'mths_since_last_record','open_acc','pub_rec','revol_bal','revol_util','total_acc','initial_list_status'\n",
    "       ,'out_prncp','out_prncp_inv','total_pymnt','total_pymnt_inv','total_rec_prncp','total_rec_int'\n",
    "       ,'total_rec_late_fee','recoveries','collection_recovery_fee','last_pymnt_d','last_pymnt_amnt','next_pymnt_d'\n",
    "       ,'last_credit_pull_d','collections_12_mths_ex_med','mths_since_last_major_derog','policy_code','application_type'\n",
    "       ,'annual_inc_joint','dti_joint','verification_status_joint','acc_now_delinq','tot_coll_amt','tot_cur_bal'\n",
    "       ,'open_acc_6m','open_act_il','open_il_12m','open_il_24m','mths_since_rcnt_il','total_bal_il','il_util'\n",
    "       ,'open_rv_12m','open_rv_24m','max_bal_bc','all_util','total_rev_hi_lim','inq_fi','total_cu_tl'\n",
    "       ,'inq_last_12m','acc_open_past_24mths','avg_cur_bal','bc_open_to_buy','bc_util','chargeoff_within_12_mths'\n",
    "       ,'delinq_amnt','mo_sin_old_il_acct','mo_sin_old_rev_tl_op','mo_sin_rcnt_rev_tl_op','mo_sin_rcnt_tl'\n",
    "       ,'mort_acc','mths_since_recent_bc','mths_since_recent_bc_dlq','mths_since_recent_inq'\n",
    "       ,'mths_since_recent_revol_delinq','num_accts_ever_120_pd','num_actv_bc_tl','num_actv_rev_tl'\n",
    "       ,'num_bc_sats','num_bc_tl','num_il_tl','num_op_rev_tl','num_rev_accts','num_rev_tl_bal_gt_0'\n",
    "       ,'num_sats','num_tl_120dpd_2m','num_tl_30dpd','num_tl_90g_dpd_24m','num_tl_op_past_12m','pct_tl_nvr_dlq'\n",
    "       ,'percent_bc_gt_75','pub_rec_bankruptcies','tax_liens','tot_hi_cred_lim','total_bal_ex_mort','total_bc_limit'\n",
    "       ,'total_il_high_credit_limit','revol_bal_joint','sec_app_earliest_cr_line','sec_app_inq_last_6mths'\n",
    "       ,'sec_app_mort_acc','sec_app_open_acc','sec_app_revol_util','sec_app_open_act_il','sec_app_num_rev_accts'\n",
    "       ,'sec_app_chargeoff_within_12_mths','sec_app_collections_12_mths_ex_med','sec_app_mths_since_last_major_derog'\n",
    "       ,'hardship_flag','hardship_type','hardship_reason','hardship_status','deferral_term','hardship_amount'\n",
    "       ,'hardship_start_date','hardship_end_date','payment_plan_start_date','hardship_length','hardship_dpd'\n",
    "       ,'hardship_loan_status','orig_projected_additional_accrued_interest','hardship_payoff_balance_amount'\n",
    "       ,'hardship_last_payment_amount','disbursement_method','debt_settlement_flag','debt_settlement_flag_date'\n",
    "       ,'settlement_status','settlement_date','settlement_amount','settlement_percentage','settlement_term']\n",
    "len(cols)"
   ]
  },
  {
   "cell_type": "markdown",
   "metadata": {},
   "source": [
    "## Columns found in the data Dictionary, total of 122 columns!"
   ]
  },
  {
   "cell_type": "code",
   "execution_count": 3,
   "metadata": {},
   "outputs": [
    {
     "data": {
      "text/plain": [
       "122"
      ]
     },
     "execution_count": 3,
     "metadata": {},
     "output_type": "execute_result"
    }
   ],
   "source": [
    "colsDict = ['BrowseNotesFile','acceptD','accNowDelinq','accOpenPast24Mths','addrState','all_util'\n",
    "           ,'annual_inc_joint','annualInc','addr_state','application_type','avg_cur_bal','bcOpenToBuy'\n",
    "           ,'bcUtil','chargeoff_within_12_mths','collections_12_mths_ex_med','creditPullD','delinq2Yrs'\n",
    "           ,'delinqAmnt','desc','dti','dti_joint','earliestCrLine','effective_int_rate','emp_title','empLength'\n",
    "           ,'expD','expDefaultRate','ficoRangeHigh','ficoRangeLow','fundedAmnt','grade','homeOwnership','id'\n",
    "           ,'il_util','ils_exp_d','initialListStatus','inq_fi','inq_last_12m','inqLast6Mths','installment'\n",
    "           ,'intRate','isIncV','listD','loanAmnt','max_bal_bc','memberId','mo_sin_old_rev_tl_op','mo_sin_rcnt_rev_tl_op'\n",
    "           ,'mo_sin_rcnt_tl','mortAcc','msa','mths_since_last_major_derog','mths_since_oldest_il_open'\n",
    "           ,'mths_since_rcnt_il','mthsSinceLastDelinq','mthsSinceLastRecord','mthsSinceMostRecentInq','mthsSinceRecentBc'\n",
    "           ,'mthsSinceRecentLoanDelinq','mthsSinceRecentRevolDelinq','num_accts_ever_120_pd','num_actv_bc_tl'\n",
    "           ,'num_actv_rev_tl','num_bc_sats','num_bc_tl','num_il_tl','num_op_rev_tl','num_rev_accts','num_rev_tl_bal_gt_0'\n",
    "           ,'num_sats','num_tl_120dpd_2m','num_tl_30dpd','num_tl_90g_dpd_24m','num_tl_op_past_12m',\n",
    "            'open_acc_6m','open_il_12m','open_il_24m','open_act_il','open_rv_12m','open_rv_24m','openAcc'\n",
    "           ,'pct_tl_nvr_dlq','percentBcGt75','pub_rec_bankruptcies','pubRec','purpose','reviewStatus','reviewStatusD'\n",
    "           ,'revolBal','revolUtil','serviceFeeRate','subGrade','tax_liens','term','title','tot_coll_amt','tot_cur_bal'\n",
    "           ,'tot_hi_cred_lim','total_bal_il','total_cu_tl','total_il_high_credit_limit','total_rev_hi_lim'\n",
    "           ,'totalAcc','totalBalExMort','totalBcLimit','url','verified_status_joint','zip_code','revol_bal_joint'\n",
    "           ,'sec_app_fico_range_low','sec_app_fico_range_high' ,'sec_app_earliest_cr_line' ,'sec_app_inq_last_6mths'\n",
    "           ,'sec_app_mort_acc' ,'sec_app_open_acc' ,'sec_app_revol_util' ,'sec_app_open_act_il'\n",
    "           ,'sec_app_num_rev_accts','sec_app_chargeoff_within_12_mths' ,'sec_app_collections_12_mths_ex_med' \n",
    "           ,'sec_app_mths_since_last_major_derog' ,'disbursement_method']\n",
    "len(colsDict)"
   ]
  },
  {
   "cell_type": "markdown",
   "metadata": {},
   "source": [
    "## Data Types of the data attributes"
   ]
  },
  {
   "cell_type": "code",
   "execution_count": 4,
   "metadata": {},
   "outputs": [],
   "source": [
    "dtypes = {'term':'object','installment':'float64','grade':'object','emp_title':'object','purpose':'object'\n",
    "          ,'title':'object','zip_code':'object','addr_state':'object','dti':'float64',\n",
    "          'collections_12_mths_ex_med':'float64','mths_since_last_major_derog':'float64','application_type':'object'\n",
    "          ,'tot_coll_amt':'float64','tot_cur_bal':'float64','open_acc_6m':'float64','open_act_il':'float64'\n",
    "          ,'open_il_12m':'float64','open_il_24m':'float64','mths_since_rcnt_il':'float64','total_bal_il':'float64'\n",
    "          ,'il_util':'float64','open_rv_12m':'float64','open_rv_24m':'float64','max_bal_bc':'float64'\n",
    "          ,'all_util':'float64','total_rev_hi_lim':'float64','inq_fi':'float64','total_cu_tl':'float64'\n",
    "          ,'inq_last_12m':'float64','avg_cur_bal':'float64','chargeoff_within_12_mths':'float64'\n",
    "          ,'mo_sin_old_rev_tl_op':'float64','mo_sin_rcnt_rev_tl_op':'float64','mo_sin_rcnt_tl':'float64'\n",
    "          ,'num_accts_ever_120_pd':'float64','num_actv_bc_tl':'float64','num_actv_rev_tl':'float64'\n",
    "          ,'num_bc_sats':'float64','num_bc_tl':'float64','num_il_tl':'float64','num_op_rev_tl':'float64'\n",
    "          ,'num_rev_accts':'float64','num_rev_tl_bal_gt_0':'float64','num_sats':'float64'\n",
    "          ,'num_tl_120dpd_2m':'float64','num_tl_30dpd':'float64','num_tl_90g_dpd_24m':'float64'\n",
    "          ,'num_tl_op_past_12m':'float64','pct_tl_nvr_dlq':'float64','pub_rec_bankruptcies':'float64'\n",
    "          ,'tax_liens':'float64','tot_hi_cred_lim':'float64','total_il_high_credit_limit':'float64'\n",
    "          ,'disbursement_method':'object'}"
   ]
  },
  {
   "cell_type": "markdown",
   "metadata": {},
   "source": [
    "## Now, I will find the intersection between the two lists  \n",
    "## to get the columns on which I will operate "
   ]
  },
  {
   "cell_type": "code",
   "execution_count": 5,
   "metadata": {},
   "outputs": [
    {
     "data": {
      "text/plain": [
       "67"
      ]
     },
     "execution_count": 5,
     "metadata": {},
     "output_type": "execute_result"
    }
   ],
   "source": [
    "intersection = (list(set(cols) & set(colsDict)))\n",
    "for item in ['desc', 'id', 'url']:\n",
    "    intersection.remove(item)\n",
    "    \n",
    "len(intersection)"
   ]
  },
  {
   "cell_type": "code",
   "execution_count": 6,
   "metadata": {},
   "outputs": [
    {
     "name": "stderr",
     "output_type": "stream",
     "text": [
      "/home/ahmedeweed/anaconda3/lib/python3.7/site-packages/IPython/core/interactiveshell.py:3049: DtypeWarning: Columns (112) have mixed types. Specify dtype option on import or set low_memory=False.\n",
      "  interactivity=interactivity, compiler=compiler, result=result)\n"
     ]
    }
   ],
   "source": [
    "# Now the dataset is 2,260,668 rows and 67 columns\n",
    "\n",
    "loan = pd.read_csv('~/Downloads/loan.csv', usecols = intersection)"
   ]
  },
  {
   "cell_type": "code",
   "execution_count": 8,
   "metadata": {},
   "outputs": [
    {
     "data": {
      "text/plain": [
       "(2260668, 67)"
      ]
     },
     "execution_count": 8,
     "metadata": {},
     "output_type": "execute_result"
    }
   ],
   "source": [
    "loan.shape"
   ]
  },
  {
   "cell_type": "code",
   "execution_count": 7,
   "metadata": {
    "scrolled": false
   },
   "outputs": [
    {
     "data": {
      "text/html": [
       "<div>\n",
       "<style scoped>\n",
       "    .dataframe tbody tr th:only-of-type {\n",
       "        vertical-align: middle;\n",
       "    }\n",
       "\n",
       "    .dataframe tbody tr th {\n",
       "        vertical-align: top;\n",
       "    }\n",
       "\n",
       "    .dataframe thead th {\n",
       "        text-align: right;\n",
       "    }\n",
       "</style>\n",
       "<table border=\"1\" class=\"dataframe\">\n",
       "  <thead>\n",
       "    <tr style=\"text-align: right;\">\n",
       "      <th></th>\n",
       "      <th>term</th>\n",
       "      <th>installment</th>\n",
       "      <th>grade</th>\n",
       "      <th>emp_title</th>\n",
       "      <th>purpose</th>\n",
       "      <th>title</th>\n",
       "      <th>zip_code</th>\n",
       "      <th>addr_state</th>\n",
       "      <th>dti</th>\n",
       "      <th>collections_12_mths_ex_med</th>\n",
       "      <th>...</th>\n",
       "      <th>sec_app_inq_last_6mths</th>\n",
       "      <th>sec_app_mort_acc</th>\n",
       "      <th>sec_app_open_acc</th>\n",
       "      <th>sec_app_revol_util</th>\n",
       "      <th>sec_app_open_act_il</th>\n",
       "      <th>sec_app_num_rev_accts</th>\n",
       "      <th>sec_app_chargeoff_within_12_mths</th>\n",
       "      <th>sec_app_collections_12_mths_ex_med</th>\n",
       "      <th>sec_app_mths_since_last_major_derog</th>\n",
       "      <th>disbursement_method</th>\n",
       "    </tr>\n",
       "  </thead>\n",
       "  <tbody>\n",
       "    <tr>\n",
       "      <th>0</th>\n",
       "      <td>36 months</td>\n",
       "      <td>84.92</td>\n",
       "      <td>C</td>\n",
       "      <td>Chef</td>\n",
       "      <td>debt_consolidation</td>\n",
       "      <td>Debt consolidation</td>\n",
       "      <td>109xx</td>\n",
       "      <td>NY</td>\n",
       "      <td>18.24</td>\n",
       "      <td>0.0</td>\n",
       "      <td>...</td>\n",
       "      <td>NaN</td>\n",
       "      <td>NaN</td>\n",
       "      <td>NaN</td>\n",
       "      <td>NaN</td>\n",
       "      <td>NaN</td>\n",
       "      <td>NaN</td>\n",
       "      <td>NaN</td>\n",
       "      <td>NaN</td>\n",
       "      <td>NaN</td>\n",
       "      <td>Cash</td>\n",
       "    </tr>\n",
       "    <tr>\n",
       "      <th>1</th>\n",
       "      <td>60 months</td>\n",
       "      <td>777.23</td>\n",
       "      <td>D</td>\n",
       "      <td>Postmaster</td>\n",
       "      <td>debt_consolidation</td>\n",
       "      <td>Debt consolidation</td>\n",
       "      <td>713xx</td>\n",
       "      <td>LA</td>\n",
       "      <td>26.52</td>\n",
       "      <td>0.0</td>\n",
       "      <td>...</td>\n",
       "      <td>NaN</td>\n",
       "      <td>NaN</td>\n",
       "      <td>NaN</td>\n",
       "      <td>NaN</td>\n",
       "      <td>NaN</td>\n",
       "      <td>NaN</td>\n",
       "      <td>NaN</td>\n",
       "      <td>NaN</td>\n",
       "      <td>NaN</td>\n",
       "      <td>Cash</td>\n",
       "    </tr>\n",
       "    <tr>\n",
       "      <th>2</th>\n",
       "      <td>36 months</td>\n",
       "      <td>180.69</td>\n",
       "      <td>D</td>\n",
       "      <td>Administrative</td>\n",
       "      <td>debt_consolidation</td>\n",
       "      <td>Debt consolidation</td>\n",
       "      <td>490xx</td>\n",
       "      <td>MI</td>\n",
       "      <td>10.51</td>\n",
       "      <td>0.0</td>\n",
       "      <td>...</td>\n",
       "      <td>NaN</td>\n",
       "      <td>NaN</td>\n",
       "      <td>NaN</td>\n",
       "      <td>NaN</td>\n",
       "      <td>NaN</td>\n",
       "      <td>NaN</td>\n",
       "      <td>NaN</td>\n",
       "      <td>NaN</td>\n",
       "      <td>NaN</td>\n",
       "      <td>Cash</td>\n",
       "    </tr>\n",
       "  </tbody>\n",
       "</table>\n",
       "<p>3 rows × 67 columns</p>\n",
       "</div>"
      ],
      "text/plain": [
       "         term  installment grade       emp_title             purpose  \\\n",
       "0   36 months        84.92     C            Chef  debt_consolidation   \n",
       "1   60 months       777.23     D     Postmaster   debt_consolidation   \n",
       "2   36 months       180.69     D  Administrative  debt_consolidation   \n",
       "\n",
       "                title zip_code addr_state    dti  collections_12_mths_ex_med  \\\n",
       "0  Debt consolidation    109xx         NY  18.24                         0.0   \n",
       "1  Debt consolidation    713xx         LA  26.52                         0.0   \n",
       "2  Debt consolidation    490xx         MI  10.51                         0.0   \n",
       "\n",
       "   ...  sec_app_inq_last_6mths sec_app_mort_acc  sec_app_open_acc  \\\n",
       "0  ...                     NaN              NaN               NaN   \n",
       "1  ...                     NaN              NaN               NaN   \n",
       "2  ...                     NaN              NaN               NaN   \n",
       "\n",
       "   sec_app_revol_util  sec_app_open_act_il  sec_app_num_rev_accts  \\\n",
       "0                 NaN                  NaN                    NaN   \n",
       "1                 NaN                  NaN                    NaN   \n",
       "2                 NaN                  NaN                    NaN   \n",
       "\n",
       "   sec_app_chargeoff_within_12_mths  sec_app_collections_12_mths_ex_med  \\\n",
       "0                               NaN                                 NaN   \n",
       "1                               NaN                                 NaN   \n",
       "2                               NaN                                 NaN   \n",
       "\n",
       "   sec_app_mths_since_last_major_derog  disbursement_method  \n",
       "0                                  NaN                 Cash  \n",
       "1                                  NaN                 Cash  \n",
       "2                                  NaN                 Cash  \n",
       "\n",
       "[3 rows x 67 columns]"
      ]
     },
     "execution_count": 7,
     "metadata": {},
     "output_type": "execute_result"
    }
   ],
   "source": [
    "loan.head(3)"
   ]
  },
  {
   "cell_type": "markdown",
   "metadata": {},
   "source": [
    "## Track down NaNs "
   ]
  },
  {
   "cell_type": "code",
   "execution_count": 9,
   "metadata": {
    "scrolled": true
   },
   "outputs": [
    {
     "data": {
      "text/plain": [
       "(term                                         0\n",
       " installment                                  0\n",
       " grade                                        0\n",
       " emp_title                               166969\n",
       " purpose                                      0\n",
       " title                                    23325\n",
       " zip_code                                     1\n",
       " addr_state                                   0\n",
       " dti                                       1711\n",
       " collections_12_mths_ex_med                 145\n",
       " mths_since_last_major_derog            1679893\n",
       " application_type                             0\n",
       " annual_inc_joint                       2139958\n",
       " dti_joint                              2139962\n",
       " tot_coll_amt                             70276\n",
       " tot_cur_bal                              70276\n",
       " open_acc_6m                             866130\n",
       " open_act_il                             866129\n",
       " open_il_12m                             866129\n",
       " open_il_24m                             866129\n",
       " mths_since_rcnt_il                      909924\n",
       " total_bal_il                            866129\n",
       " il_util                                1068850\n",
       " open_rv_12m                             866129\n",
       " open_rv_24m                             866129\n",
       " max_bal_bc                              866129\n",
       " all_util                                866348\n",
       " total_rev_hi_lim                         70276\n",
       " inq_fi                                  866129\n",
       " total_cu_tl                             866130\n",
       "                                         ...   \n",
       " num_actv_bc_tl                           70276\n",
       " num_actv_rev_tl                          70276\n",
       " num_bc_sats                              58590\n",
       " num_bc_tl                                70276\n",
       " num_il_tl                                70276\n",
       " num_op_rev_tl                            70276\n",
       " num_rev_accts                            70277\n",
       " num_rev_tl_bal_gt_0                      70276\n",
       " num_sats                                 58590\n",
       " num_tl_120dpd_2m                        153657\n",
       " num_tl_30dpd                             70276\n",
       " num_tl_90g_dpd_24m                       70276\n",
       " num_tl_op_past_12m                       70276\n",
       " pct_tl_nvr_dlq                           70431\n",
       " pub_rec_bankruptcies                      1365\n",
       " tax_liens                                  105\n",
       " tot_hi_cred_lim                          70276\n",
       " total_il_high_credit_limit               70276\n",
       " revol_bal_joint                        2152648\n",
       " sec_app_earliest_cr_line               2152647\n",
       " sec_app_inq_last_6mths                 2152647\n",
       " sec_app_mort_acc                       2152647\n",
       " sec_app_open_acc                       2152647\n",
       " sec_app_revol_util                     2154484\n",
       " sec_app_open_act_il                    2152647\n",
       " sec_app_num_rev_accts                  2152647\n",
       " sec_app_chargeoff_within_12_mths       2152647\n",
       " sec_app_collections_12_mths_ex_med     2152647\n",
       " sec_app_mths_since_last_major_derog    2224726\n",
       " disbursement_method                          0\n",
       " Length: 67, dtype: int64, (2260668, 67))"
      ]
     },
     "execution_count": 9,
     "metadata": {},
     "output_type": "execute_result"
    }
   ],
   "source": [
    "loan.isna().sum(), loan.shape"
   ]
  },
  {
   "cell_type": "code",
   "execution_count": 9,
   "metadata": {},
   "outputs": [
    {
     "data": {
      "text/plain": [
       "54"
      ]
     },
     "execution_count": 9,
     "metadata": {},
     "output_type": "execute_result"
    }
   ],
   "source": [
    "len(dtypes.keys())"
   ]
  },
  {
   "cell_type": "code",
   "execution_count": 10,
   "metadata": {
    "scrolled": true
   },
   "outputs": [
    {
     "name": "stdout",
     "output_type": "stream",
     "text": [
      "<class 'pandas.core.frame.DataFrame'>\n",
      "RangeIndex: 2260668 entries, 0 to 2260667\n",
      "Data columns (total 67 columns):\n",
      "term                                   object\n",
      "installment                            float64\n",
      "grade                                  object\n",
      "emp_title                              object\n",
      "purpose                                object\n",
      "title                                  object\n",
      "zip_code                               object\n",
      "addr_state                             object\n",
      "dti                                    float64\n",
      "collections_12_mths_ex_med             float64\n",
      "mths_since_last_major_derog            float64\n",
      "application_type                       object\n",
      "annual_inc_joint                       float64\n",
      "dti_joint                              float64\n",
      "tot_coll_amt                           float64\n",
      "tot_cur_bal                            float64\n",
      "open_acc_6m                            float64\n",
      "open_act_il                            float64\n",
      "open_il_12m                            float64\n",
      "open_il_24m                            float64\n",
      "mths_since_rcnt_il                     float64\n",
      "total_bal_il                           float64\n",
      "il_util                                float64\n",
      "open_rv_12m                            float64\n",
      "open_rv_24m                            float64\n",
      "max_bal_bc                             float64\n",
      "all_util                               float64\n",
      "total_rev_hi_lim                       float64\n",
      "inq_fi                                 float64\n",
      "total_cu_tl                            float64\n",
      "inq_last_12m                           float64\n",
      "avg_cur_bal                            float64\n",
      "chargeoff_within_12_mths               float64\n",
      "mo_sin_old_rev_tl_op                   float64\n",
      "mo_sin_rcnt_rev_tl_op                  float64\n",
      "mo_sin_rcnt_tl                         float64\n",
      "num_accts_ever_120_pd                  float64\n",
      "num_actv_bc_tl                         float64\n",
      "num_actv_rev_tl                        float64\n",
      "num_bc_sats                            float64\n",
      "num_bc_tl                              float64\n",
      "num_il_tl                              float64\n",
      "num_op_rev_tl                          float64\n",
      "num_rev_accts                          float64\n",
      "num_rev_tl_bal_gt_0                    float64\n",
      "num_sats                               float64\n",
      "num_tl_120dpd_2m                       float64\n",
      "num_tl_30dpd                           float64\n",
      "num_tl_90g_dpd_24m                     float64\n",
      "num_tl_op_past_12m                     float64\n",
      "pct_tl_nvr_dlq                         float64\n",
      "pub_rec_bankruptcies                   float64\n",
      "tax_liens                              float64\n",
      "tot_hi_cred_lim                        float64\n",
      "total_il_high_credit_limit             float64\n",
      "revol_bal_joint                        float64\n",
      "sec_app_earliest_cr_line               object\n",
      "sec_app_inq_last_6mths                 float64\n",
      "sec_app_mort_acc                       float64\n",
      "sec_app_open_acc                       float64\n",
      "sec_app_revol_util                     float64\n",
      "sec_app_open_act_il                    float64\n",
      "sec_app_num_rev_accts                  float64\n",
      "sec_app_chargeoff_within_12_mths       float64\n",
      "sec_app_collections_12_mths_ex_med     float64\n",
      "sec_app_mths_since_last_major_derog    float64\n",
      "disbursement_method                    object\n",
      "dtypes: float64(57), object(10)\n",
      "memory usage: 1.1+ GB\n"
     ]
    }
   ],
   "source": [
    "loan.info()"
   ]
  },
  {
   "cell_type": "code",
   "execution_count": 11,
   "metadata": {},
   "outputs": [],
   "source": [
    "# all-null columns\n",
    "columns_to_drop = ['revol_bal_joint','sec_app_earliest_cr_line',\n",
    "                   'sec_app_inq_last_6mths','sec_app_mort_acc',\n",
    "                   'sec_app_open_acc','sec_app_revol_util',\n",
    "                   'sec_app_open_act_il','sec_app_num_rev_accts',\n",
    "                   'sec_app_chargeoff_within_12_mths',\n",
    "                   'sec_app_collections_12_mths_ex_med',\n",
    "                   'sec_app_mths_since_last_major_derog',\n",
    "                   'annual_inc_joint','dti_joint']"
   ]
  },
  {
   "cell_type": "markdown",
   "metadata": {},
   "source": [
    "## drop columns with almost all values are null"
   ]
  },
  {
   "cell_type": "code",
   "execution_count": 12,
   "metadata": {},
   "outputs": [],
   "source": [
    "loan.drop(columns = columns_to_drop, inplace = True)"
   ]
  },
  {
   "cell_type": "markdown",
   "metadata": {},
   "source": [
    "## drop rows that has all values null"
   ]
  },
  {
   "cell_type": "code",
   "execution_count": 13,
   "metadata": {},
   "outputs": [],
   "source": [
    "loan.dropna(axis = 0, how = 'all', inplace = True)"
   ]
  },
  {
   "cell_type": "markdown",
   "metadata": {},
   "source": [
    "## handling null values either by dropping them or filling them with median value"
   ]
  },
  {
   "cell_type": "code",
   "execution_count": 14,
   "metadata": {},
   "outputs": [],
   "source": [
    "loan.dropna(axis = 0, subset=['emp_title', 'title', 'zip_code'], inplace = True)"
   ]
  },
  {
   "cell_type": "code",
   "execution_count": 15,
   "metadata": {},
   "outputs": [],
   "source": [
    "for col in loan.columns:\n",
    "    if loan[col].dtype == \"float64\":\n",
    "        loan[col].fillna(loan[col].mean(), inplace = True)\n",
    "        loan[col] = loan[col].astype('int64')\n",
    "    else:\n",
    "        loan[col] = loan[col]"
   ]
  },
  {
   "cell_type": "code",
   "execution_count": 16,
   "metadata": {},
   "outputs": [
    {
     "data": {
      "text/plain": [
       "(term                           0\n",
       " installment                    0\n",
       " grade                          0\n",
       " emp_title                      0\n",
       " purpose                        0\n",
       " title                          0\n",
       " zip_code                       0\n",
       " addr_state                     0\n",
       " dti                            0\n",
       " collections_12_mths_ex_med     0\n",
       " mths_since_last_major_derog    0\n",
       " application_type               0\n",
       " tot_coll_amt                   0\n",
       " tot_cur_bal                    0\n",
       " open_acc_6m                    0\n",
       " open_act_il                    0\n",
       " open_il_12m                    0\n",
       " open_il_24m                    0\n",
       " mths_since_rcnt_il             0\n",
       " total_bal_il                   0\n",
       " il_util                        0\n",
       " open_rv_12m                    0\n",
       " open_rv_24m                    0\n",
       " max_bal_bc                     0\n",
       " all_util                       0\n",
       " total_rev_hi_lim               0\n",
       " inq_fi                         0\n",
       " total_cu_tl                    0\n",
       " inq_last_12m                   0\n",
       " avg_cur_bal                    0\n",
       " chargeoff_within_12_mths       0\n",
       " mo_sin_old_rev_tl_op           0\n",
       " mo_sin_rcnt_rev_tl_op          0\n",
       " mo_sin_rcnt_tl                 0\n",
       " num_accts_ever_120_pd          0\n",
       " num_actv_bc_tl                 0\n",
       " num_actv_rev_tl                0\n",
       " num_bc_sats                    0\n",
       " num_bc_tl                      0\n",
       " num_il_tl                      0\n",
       " num_op_rev_tl                  0\n",
       " num_rev_accts                  0\n",
       " num_rev_tl_bal_gt_0            0\n",
       " num_sats                       0\n",
       " num_tl_120dpd_2m               0\n",
       " num_tl_30dpd                   0\n",
       " num_tl_90g_dpd_24m             0\n",
       " num_tl_op_past_12m             0\n",
       " pct_tl_nvr_dlq                 0\n",
       " pub_rec_bankruptcies           0\n",
       " tax_liens                      0\n",
       " tot_hi_cred_lim                0\n",
       " total_il_high_credit_limit     0\n",
       " disbursement_method            0\n",
       " dtype: int64, (2073571, 54))"
      ]
     },
     "execution_count": 16,
     "metadata": {},
     "output_type": "execute_result"
    }
   ],
   "source": [
    "loan.isna().sum(), loan.shape"
   ]
  },
  {
   "cell_type": "code",
   "execution_count": 17,
   "metadata": {},
   "outputs": [
    {
     "name": "stdout",
     "output_type": "stream",
     "text": [
      "<class 'pandas.core.frame.DataFrame'>\n",
      "Int64Index: 2073571 entries, 0 to 2260667\n",
      "Data columns (total 54 columns):\n",
      "term                           2073571 non-null object\n",
      "installment                    2073571 non-null int64\n",
      "grade                          2073571 non-null object\n",
      "emp_title                      2073571 non-null object\n",
      "purpose                        2073571 non-null object\n",
      "title                          2073571 non-null object\n",
      "zip_code                       2073571 non-null object\n",
      "addr_state                     2073571 non-null object\n",
      "dti                            2073571 non-null int64\n",
      "collections_12_mths_ex_med     2073571 non-null int64\n",
      "mths_since_last_major_derog    2073571 non-null int64\n",
      "application_type               2073571 non-null object\n",
      "tot_coll_amt                   2073571 non-null int64\n",
      "tot_cur_bal                    2073571 non-null int64\n",
      "open_acc_6m                    2073571 non-null int64\n",
      "open_act_il                    2073571 non-null int64\n",
      "open_il_12m                    2073571 non-null int64\n",
      "open_il_24m                    2073571 non-null int64\n",
      "mths_since_rcnt_il             2073571 non-null int64\n",
      "total_bal_il                   2073571 non-null int64\n",
      "il_util                        2073571 non-null int64\n",
      "open_rv_12m                    2073571 non-null int64\n",
      "open_rv_24m                    2073571 non-null int64\n",
      "max_bal_bc                     2073571 non-null int64\n",
      "all_util                       2073571 non-null int64\n",
      "total_rev_hi_lim               2073571 non-null int64\n",
      "inq_fi                         2073571 non-null int64\n",
      "total_cu_tl                    2073571 non-null int64\n",
      "inq_last_12m                   2073571 non-null int64\n",
      "avg_cur_bal                    2073571 non-null int64\n",
      "chargeoff_within_12_mths       2073571 non-null int64\n",
      "mo_sin_old_rev_tl_op           2073571 non-null int64\n",
      "mo_sin_rcnt_rev_tl_op          2073571 non-null int64\n",
      "mo_sin_rcnt_tl                 2073571 non-null int64\n",
      "num_accts_ever_120_pd          2073571 non-null int64\n",
      "num_actv_bc_tl                 2073571 non-null int64\n",
      "num_actv_rev_tl                2073571 non-null int64\n",
      "num_bc_sats                    2073571 non-null int64\n",
      "num_bc_tl                      2073571 non-null int64\n",
      "num_il_tl                      2073571 non-null int64\n",
      "num_op_rev_tl                  2073571 non-null int64\n",
      "num_rev_accts                  2073571 non-null int64\n",
      "num_rev_tl_bal_gt_0            2073571 non-null int64\n",
      "num_sats                       2073571 non-null int64\n",
      "num_tl_120dpd_2m               2073571 non-null int64\n",
      "num_tl_30dpd                   2073571 non-null int64\n",
      "num_tl_90g_dpd_24m             2073571 non-null int64\n",
      "num_tl_op_past_12m             2073571 non-null int64\n",
      "pct_tl_nvr_dlq                 2073571 non-null int64\n",
      "pub_rec_bankruptcies           2073571 non-null int64\n",
      "tax_liens                      2073571 non-null int64\n",
      "tot_hi_cred_lim                2073571 non-null int64\n",
      "total_il_high_credit_limit     2073571 non-null int64\n",
      "disbursement_method            2073571 non-null object\n",
      "dtypes: int64(45), object(9)\n",
      "memory usage: 870.1+ MB\n"
     ]
    },
    {
     "data": {
      "text/plain": [
       "(None, (2073571, 54))"
      ]
     },
     "execution_count": 17,
     "metadata": {},
     "output_type": "execute_result"
    }
   ],
   "source": [
    "loan.info(null_counts = True), loan.shape"
   ]
  },
  {
   "cell_type": "code",
   "execution_count": null,
   "metadata": {},
   "outputs": [],
   "source": []
  },
  {
   "cell_type": "code",
   "execution_count": null,
   "metadata": {},
   "outputs": [],
   "source": []
  },
  {
   "cell_type": "code",
   "execution_count": null,
   "metadata": {},
   "outputs": [],
   "source": []
  },
  {
   "cell_type": "code",
   "execution_count": null,
   "metadata": {},
   "outputs": [],
   "source": []
  },
  {
   "cell_type": "markdown",
   "metadata": {},
   "source": [
    "## Convert data types "
   ]
  },
  {
   "cell_type": "code",
   "execution_count": null,
   "metadata": {},
   "outputs": [],
   "source": []
  },
  {
   "cell_type": "code",
   "execution_count": null,
   "metadata": {},
   "outputs": [],
   "source": []
  },
  {
   "cell_type": "code",
   "execution_count": 18,
   "metadata": {},
   "outputs": [],
   "source": [
    "# Save the reduced dataset for easy loading it in the future\n",
    "\n",
    "loan.to_csv('~/Downloads/r_loan.csv', index =  False)"
   ]
  },
  {
   "cell_type": "markdown",
   "metadata": {},
   "source": [
    "## End of this file "
   ]
  },
  {
   "cell_type": "code",
   "execution_count": null,
   "metadata": {},
   "outputs": [],
   "source": []
  }
 ],
 "metadata": {
  "kernelspec": {
   "display_name": "Python 3",
   "language": "python",
   "name": "python3"
  },
  "language_info": {
   "codemirror_mode": {
    "name": "ipython",
    "version": 3
   },
   "file_extension": ".py",
   "mimetype": "text/x-python",
   "name": "python",
   "nbconvert_exporter": "python",
   "pygments_lexer": "ipython3",
   "version": "3.7.3"
  }
 },
 "nbformat": 4,
 "nbformat_minor": 2
}
