{
 "cells": [
  {
   "cell_type": "code",
   "execution_count": 34,
   "metadata": {},
   "outputs": [],
   "source": [
    "import pandas as pd"
   ]
  },
  {
   "cell_type": "markdown",
   "metadata": {},
   "source": [
    "## Columns found in the dataset, total of 145 column!"
   ]
  },
  {
   "cell_type": "code",
   "execution_count": 35,
   "metadata": {},
   "outputs": [
    {
     "data": {
      "text/plain": [
       "145"
      ]
     },
     "execution_count": 35,
     "metadata": {},
     "output_type": "execute_result"
    }
   ],
   "source": [
    "cols = ['id', 'member_id','loan_amnt','funded_amnt','funded_amnt_inv','term','int_rate', \n",
    "        'installment','grade','sub_grade','emp_title','emp_length','home_ownership','annual_inc'\n",
    "       ,'verification_status','issue_d','loan_status','pymnt_plan','url','desc','purpose','title','zip_code'\n",
    "       ,'addr_state','dti','delinq_2yrs','earliest_cr_line','inq_last_6mths','mths_since_last_delinq'\n",
    "       ,'mths_since_last_record','open_acc','pub_rec','revol_bal','revol_util','total_acc','initial_list_status'\n",
    "       ,'out_prncp','out_prncp_inv','total_pymnt','total_pymnt_inv','total_rec_prncp','total_rec_int'\n",
    "       ,'total_rec_late_fee','recoveries','collection_recovery_fee','last_pymnt_d','last_pymnt_amnt','next_pymnt_d'\n",
    "       ,'last_credit_pull_d','collections_12_mths_ex_med','mths_since_last_major_derog','policy_code','application_type'\n",
    "       ,'annual_inc_joint','dti_joint','verification_status_joint','acc_now_delinq','tot_coll_amt','tot_cur_bal'\n",
    "       ,'open_acc_6m','open_act_il','open_il_12m','open_il_24m','mths_since_rcnt_il','total_bal_il','il_util'\n",
    "       ,'open_rv_12m','open_rv_24m','max_bal_bc','all_util','total_rev_hi_lim','inq_fi','total_cu_tl'\n",
    "       ,'inq_last_12m','acc_open_past_24mths','avg_cur_bal','bc_open_to_buy','bc_util','chargeoff_within_12_mths'\n",
    "       ,'delinq_amnt','mo_sin_old_il_acct','mo_sin_old_rev_tl_op','mo_sin_rcnt_rev_tl_op','mo_sin_rcnt_tl'\n",
    "       ,'mort_acc','mths_since_recent_bc','mths_since_recent_bc_dlq','mths_since_recent_inq'\n",
    "       ,'mths_since_recent_revol_delinq','num_accts_ever_120_pd','num_actv_bc_tl','num_actv_rev_tl'\n",
    "       ,'num_bc_sats','num_bc_tl','num_il_tl','num_op_rev_tl','num_rev_accts','num_rev_tl_bal_gt_0'\n",
    "       ,'num_sats','num_tl_120dpd_2m','num_tl_30dpd','num_tl_90g_dpd_24m','num_tl_op_past_12m','pct_tl_nvr_dlq'\n",
    "       ,'percent_bc_gt_75','pub_rec_bankruptcies','tax_liens','tot_hi_cred_lim','total_bal_ex_mort','total_bc_limit'\n",
    "       ,'total_il_high_credit_limit','revol_bal_joint','sec_app_earliest_cr_line','sec_app_inq_last_6mths'\n",
    "       ,'sec_app_mort_acc','sec_app_open_acc','sec_app_revol_util','sec_app_open_act_il','sec_app_num_rev_accts'\n",
    "       ,'sec_app_chargeoff_within_12_mths','sec_app_collections_12_mths_ex_med','sec_app_mths_since_last_major_derog'\n",
    "       ,'hardship_flag','hardship_type','hardship_reason','hardship_status','deferral_term','hardship_amount'\n",
    "       ,'hardship_start_date','hardship_end_date','payment_plan_start_date','hardship_length','hardship_dpd'\n",
    "       ,'hardship_loan_status','orig_projected_additional_accrued_interest','hardship_payoff_balance_amount'\n",
    "       ,'hardship_last_payment_amount','disbursement_method','debt_settlement_flag','debt_settlement_flag_date'\n",
    "       ,'settlement_status','settlement_date','settlement_amount','settlement_percentage','settlement_term']\n",
    "len(cols)"
   ]
  },
  {
   "cell_type": "markdown",
   "metadata": {},
   "source": [
    "## Columns found in the data Dictionary, total of 122 columns!"
   ]
  },
  {
   "cell_type": "code",
   "execution_count": 36,
   "metadata": {},
   "outputs": [
    {
     "data": {
      "text/plain": [
       "122"
      ]
     },
     "execution_count": 36,
     "metadata": {},
     "output_type": "execute_result"
    }
   ],
   "source": [
    "colsDict = ['BrowseNotesFile','acceptD','accNowDelinq','accOpenPast24Mths','addrState','all_util'\n",
    "           ,'annual_inc_joint','annualInc','addr_state','application_type','avg_cur_bal','bcOpenToBuy'\n",
    "           ,'bcUtil','chargeoff_within_12_mths','collections_12_mths_ex_med','creditPullD','delinq2Yrs'\n",
    "           ,'delinqAmnt','desc','dti','dti_joint','earliestCrLine','effective_int_rate','emp_title','empLength'\n",
    "           ,'expD','expDefaultRate','ficoRangeHigh','ficoRangeLow','fundedAmnt','grade','homeOwnership','id'\n",
    "           ,'il_util','ils_exp_d','initialListStatus','inq_fi','inq_last_12m','inqLast6Mths','installment'\n",
    "           ,'intRate','isIncV','listD','loanAmnt','max_bal_bc','memberId','mo_sin_old_rev_tl_op','mo_sin_rcnt_rev_tl_op'\n",
    "           ,'mo_sin_rcnt_tl','mortAcc','msa','mths_since_last_major_derog','mths_since_oldest_il_open'\n",
    "           ,'mths_since_rcnt_il','mthsSinceLastDelinq','mthsSinceLastRecord','mthsSinceMostRecentInq','mthsSinceRecentBc'\n",
    "           ,'mthsSinceRecentLoanDelinq','mthsSinceRecentRevolDelinq','num_accts_ever_120_pd','num_actv_bc_tl'\n",
    "           ,'num_actv_rev_tl','num_bc_sats','num_bc_tl','num_il_tl','num_op_rev_tl','num_rev_accts','num_rev_tl_bal_gt_0'\n",
    "           ,'num_sats','num_tl_120dpd_2m','num_tl_30dpd','num_tl_90g_dpd_24m','num_tl_op_past_12m',\n",
    "            'open_acc_6m','open_il_12m','open_il_24m','open_act_il','open_rv_12m','open_rv_24m','openAcc'\n",
    "           ,'pct_tl_nvr_dlq','percentBcGt75','pub_rec_bankruptcies','pubRec','purpose','reviewStatus','reviewStatusD'\n",
    "           ,'revolBal','revolUtil','serviceFeeRate','subGrade','tax_liens','term','title','tot_coll_amt','tot_cur_bal'\n",
    "           ,'tot_hi_cred_lim','total_bal_il','total_cu_tl','total_il_high_credit_limit','total_rev_hi_lim'\n",
    "           ,'totalAcc','totalBalExMort','totalBcLimit','url','verified_status_joint','zip_code','revol_bal_joint'\n",
    "           ,'sec_app_fico_range_low','sec_app_fico_range_high' ,'sec_app_earliest_cr_line' ,'sec_app_inq_last_6mths'\n",
    "           ,'sec_app_mort_acc' ,'sec_app_open_acc' ,'sec_app_revol_util' ,'sec_app_open_act_il'\n",
    "           ,'sec_app_num_rev_accts','sec_app_chargeoff_within_12_mths' ,'sec_app_collections_12_mths_ex_med' \n",
    "           ,'sec_app_mths_since_last_major_derog' ,'disbursement_method']\n",
    "len(colsDict)"
   ]
  },
  {
   "cell_type": "markdown",
   "metadata": {},
   "source": [
    "## Data Types of the data attributes"
   ]
  },
  {
   "cell_type": "code",
   "execution_count": 37,
   "metadata": {},
   "outputs": [],
   "source": [
    "dtypes = {'term':'object','installment':'float64','grade':'object','emp_title':'object','purpose':'object'\n",
    "          ,'title':'object','zip_code':'object','addr_state':'object','dti':'float64',\n",
    "          'collections_12_mths_ex_med':'float64','mths_since_last_major_derog':'float64','application_type':'object'\n",
    "          ,'tot_coll_amt':'float64','tot_cur_bal':'float64','open_acc_6m':'float64','open_act_il':'float64'\n",
    "          ,'open_il_12m':'float64','open_il_24m':'float64','mths_since_rcnt_il':'float64','total_bal_il':'float64'\n",
    "          ,'il_util':'float64','open_rv_12m':'float64','open_rv_24m':'float64','max_bal_bc':'float64'\n",
    "          ,'all_util':'float64','total_rev_hi_lim':'float64','inq_fi':'float64','total_cu_tl':'float64'\n",
    "          ,'inq_last_12m':'float64','avg_cur_bal':'float64','chargeoff_within_12_mths':'float64'\n",
    "          ,'mo_sin_old_rev_tl_op':'float64','mo_sin_rcnt_rev_tl_op':'float64','mo_sin_rcnt_tl':'float64'\n",
    "          ,'num_accts_ever_120_pd':'float64','num_actv_bc_tl':'float64','num_actv_rev_tl':'float64'\n",
    "          ,'num_bc_sats':'float64','num_bc_tl':'float64','num_il_tl':'float64','num_op_rev_tl':'float64'\n",
    "          ,'num_rev_accts':'float64','num_rev_tl_bal_gt_0':'float64','num_sats':'float64'\n",
    "          ,'num_tl_120dpd_2m':'float64','num_tl_30dpd':'float64','num_tl_90g_dpd_24m':'float64'\n",
    "          ,'num_tl_op_past_12m':'float64','pct_tl_nvr_dlq':'float64','pub_rec_bankruptcies':'float64'\n",
    "          ,'tax_liens':'float64','tot_hi_cred_lim':'float64','total_il_high_credit_limit':'float64'\n",
    "          ,'disbursement_method':'object'}"
   ]
  },
  {
   "cell_type": "markdown",
   "metadata": {},
   "source": [
    "## Now, I will find the intersection between the two lists  \n",
    "## to get the columns on which I will operate "
   ]
  },
  {
   "cell_type": "code",
   "execution_count": null,
   "metadata": {},
   "outputs": [
    {
     "data": {
      "text/plain": [
       "67"
      ]
     },
     "execution_count": 38,
     "metadata": {},
     "output_type": "execute_result"
    }
   ],
   "source": [
    "intersection = (list(set(cols) & set(colsDict)))\n",
    "for item in ['desc', 'id', 'url']:\n",
    "    intersection.remove(item)\n",
    "    \n",
    "len(intersection)"
   ]
  },
  {
   "cell_type": "code",
   "execution_count": null,
   "metadata": {},
   "outputs": [],
   "source": [
    "# Now the dataset is 2,260,668 rows and 67 columns\n",
    "\n",
    "loan = pd.read_csv('~/Downloads/loan.csv', usecols = intersection, dtype = dtypes)"
   ]
  },
  {
   "cell_type": "code",
   "execution_count": null,
   "metadata": {},
   "outputs": [],
   "source": [
    "loan.shape"
   ]
  },
  {
   "cell_type": "code",
   "execution_count": null,
   "metadata": {
    "scrolled": false
   },
   "outputs": [],
   "source": [
    "loan.head()"
   ]
  },
  {
   "cell_type": "markdown",
   "metadata": {},
   "source": [
    "## Track down NaNs "
   ]
  },
  {
   "cell_type": "code",
   "execution_count": null,
   "metadata": {
    "scrolled": false
   },
   "outputs": [],
   "source": [
    "loan.isna().sum(), loan.shape"
   ]
  },
  {
   "cell_type": "code",
   "execution_count": null,
   "metadata": {},
   "outputs": [],
   "source": [
    "len(dtypes.keys())"
   ]
  },
  {
   "cell_type": "code",
   "execution_count": null,
   "metadata": {
    "scrolled": false
   },
   "outputs": [],
   "source": [
    "loan.info()"
   ]
  },
  {
   "cell_type": "code",
   "execution_count": null,
   "metadata": {},
   "outputs": [],
   "source": [
    "# all-null columns\n",
    "columns_to_drop = ['revol_bal_joint','sec_app_earliest_cr_line',\n",
    "                   'sec_app_inq_last_6mths','sec_app_mort_acc',\n",
    "                   'sec_app_open_acc','sec_app_revol_util',\n",
    "                   'sec_app_open_act_il','sec_app_num_rev_accts',\n",
    "                   'sec_app_chargeoff_within_12_mths',\n",
    "                   'sec_app_collections_12_mths_ex_med',\n",
    "                   'sec_app_mths_since_last_major_derog',\n",
    "                   'annual_inc_joint','dti_joint']"
   ]
  },
  {
   "cell_type": "markdown",
   "metadata": {},
   "source": [
    "## drop columns with almost all values are null"
   ]
  },
  {
   "cell_type": "code",
   "execution_count": null,
   "metadata": {},
   "outputs": [],
   "source": [
    "loan.drop(columns = columns_to_drop, inplace = True)"
   ]
  },
  {
   "cell_type": "markdown",
   "metadata": {},
   "source": [
    "## drop rows that has all values null"
   ]
  },
  {
   "cell_type": "code",
   "execution_count": null,
   "metadata": {},
   "outputs": [],
   "source": [
    "loan.dropna(axis = 0, how = 'all', inplace = True)"
   ]
  },
  {
   "cell_type": "markdown",
   "metadata": {},
   "source": [
    "## handling null values in the rest of the column  \n",
    "## either by dropping them or filling them with mean or median value"
   ]
  },
  {
   "cell_type": "code",
   "execution_count": null,
   "metadata": {},
   "outputs": [],
   "source": [
    "loan.dropna(axis = 0, subset=['emp_title'], inplace = True)"
   ]
  },
  {
   "cell_type": "code",
   "execution_count": null,
   "metadata": {},
   "outputs": [],
   "source": [
    "loan.dropna(axis = 0, subset=['title'], inplace = True)"
   ]
  },
  {
   "cell_type": "code",
   "execution_count": null,
   "metadata": {},
   "outputs": [],
   "source": [
    "loan.dropna(axis = 0, subset=['zip_code'], inplace = True)"
   ]
  },
  {
   "cell_type": "code",
   "execution_count": null,
   "metadata": {},
   "outputs": [],
   "source": [
    "loan['dti'].fillna(loan['dti'].mean(), inplace = True)"
   ]
  },
  {
   "cell_type": "code",
   "execution_count": null,
   "metadata": {},
   "outputs": [],
   "source": [
    "loan['collections_12_mths_ex_med'].fillna(loan['collections_12_mths_ex_med'].median(), inplace = True)"
   ]
  },
  {
   "cell_type": "code",
   "execution_count": null,
   "metadata": {},
   "outputs": [],
   "source": [
    "loan['mths_since_last_major_derog'].fillna(value = loan['mths_since_last_major_derog'].mean(), inplace = True)"
   ]
  },
  {
   "cell_type": "code",
   "execution_count": null,
   "metadata": {},
   "outputs": [],
   "source": [
    "loan['mths_since_last_major_derog'] = loan['mths_since_last_major_derog'].astype('int64')"
   ]
  },
  {
   "cell_type": "code",
   "execution_count": null,
   "metadata": {},
   "outputs": [],
   "source": [
    "loan.isna().sum(), loan.shape"
   ]
  },
  {
   "cell_type": "code",
   "execution_count": null,
   "metadata": {},
   "outputs": [],
   "source": []
  },
  {
   "cell_type": "code",
   "execution_count": null,
   "metadata": {},
   "outputs": [],
   "source": []
  },
  {
   "cell_type": "code",
   "execution_count": null,
   "metadata": {},
   "outputs": [],
   "source": []
  },
  {
   "cell_type": "code",
   "execution_count": null,
   "metadata": {},
   "outputs": [],
   "source": []
  },
  {
   "cell_type": "code",
   "execution_count": null,
   "metadata": {},
   "outputs": [],
   "source": []
  },
  {
   "cell_type": "code",
   "execution_count": null,
   "metadata": {},
   "outputs": [],
   "source": []
  },
  {
   "cell_type": "code",
   "execution_count": null,
   "metadata": {},
   "outputs": [],
   "source": []
  },
  {
   "cell_type": "code",
   "execution_count": null,
   "metadata": {},
   "outputs": [],
   "source": []
  },
  {
   "cell_type": "code",
   "execution_count": null,
   "metadata": {},
   "outputs": [],
   "source": []
  },
  {
   "cell_type": "code",
   "execution_count": 13,
   "metadata": {},
   "outputs": [],
   "source": [
    "# Save the reduced dataset for easy loading it in the future\n",
    "\n",
    "loan.to_csv('c_loan.csv', index =  False)"
   ]
  },
  {
   "cell_type": "markdown",
   "metadata": {},
   "source": [
    "## End of this file "
   ]
  },
  {
   "cell_type": "code",
   "execution_count": null,
   "metadata": {},
   "outputs": [],
   "source": []
  }
 ],
 "metadata": {
  "kernelspec": {
   "display_name": "Python 3",
   "language": "python",
   "name": "python3"
  },
  "language_info": {
   "codemirror_mode": {
    "name": "ipython",
    "version": 3
   },
   "file_extension": ".py",
   "mimetype": "text/x-python",
   "name": "python",
   "nbconvert_exporter": "python",
   "pygments_lexer": "ipython3",
   "version": "3.7.3"
  }
 },
 "nbformat": 4,
 "nbformat_minor": 2
}
